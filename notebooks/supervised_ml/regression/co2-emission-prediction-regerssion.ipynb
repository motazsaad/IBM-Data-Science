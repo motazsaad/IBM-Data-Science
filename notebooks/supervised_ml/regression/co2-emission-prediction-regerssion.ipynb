{
 "cells": [
  {
   "cell_type": "code",
   "execution_count": 1,
   "id": "c588d00d",
   "metadata": {
    "_cell_guid": "b1076dfc-b9ad-4769-8c92-a6c4dae69d19",
    "_uuid": "8f2839f25d086af736a60e9eeb907d3b93b6e0e5",
    "execution": {
     "iopub.execute_input": "2024-08-09T14:43:27.246658Z",
     "iopub.status.busy": "2024-08-09T14:43:27.246296Z",
     "iopub.status.idle": "2024-08-09T14:43:28.130721Z",
     "shell.execute_reply": "2024-08-09T14:43:28.129503Z"
    },
    "papermill": {
     "duration": 0.895224,
     "end_time": "2024-08-09T14:43:28.132906",
     "exception": false,
     "start_time": "2024-08-09T14:43:27.237682",
     "status": "completed"
    },
    "tags": []
   },
   "outputs": [
    {
     "name": "stdout",
     "output_type": "stream",
     "text": [
      "/kaggle/input/co2-emission-by-vehicles/CO2 Emissions_Canada.csv\n",
      "/kaggle/input/co2-emission-by-vehicles/Data Description.csv\n"
     ]
    }
   ],
   "source": [
    "# This Python 3 environment comes with many helpful analytics libraries installed\n",
    "# It is defined by the kaggle/python Docker image: https://github.com/kaggle/docker-python\n",
    "# For example, here's several helpful packages to load\n",
    "\n",
    "import numpy as np # linear algebra\n",
    "import pandas as pd # data processing, CSV file I/O (e.g. pd.read_csv)\n",
    "\n",
    "# Input data files are available in the read-only \"../input/\" directory\n",
    "# For example, running this (by clicking run or pressing Shift+Enter) will list all files under the input directory\n",
    "\n",
    "import os\n",
    "for dirname, _, filenames in os.walk('/kaggle/input'):\n",
    "    for filename in filenames:\n",
    "        print(os.path.join(dirname, filename))\n",
    "\n",
    "# You can write up to 20GB to the current directory (/kaggle/working/) that gets preserved as output when you create a version using \"Save & Run All\" \n",
    "# You can also write temporary files to /kaggle/temp/, but they won't be saved outside of the current session"
   ]
  },
  {
   "cell_type": "markdown",
   "id": "d655131a",
   "metadata": {
    "papermill": {
     "duration": 0.006608,
     "end_time": "2024-08-09T14:43:28.147711",
     "exception": false,
     "start_time": "2024-08-09T14:43:28.141103",
     "status": "completed"
    },
    "tags": []
   },
   "source": [
    "# steps in sklearn:\n",
    "1. load dataset \n",
    "2. split data into X, y\n",
    "3. split data into train and test \n",
    "4. create model \n",
    "5. fit (train) model \n",
    "6. predict \n",
    "7. evaluate "
   ]
  },
  {
   "cell_type": "markdown",
   "id": "836207b2",
   "metadata": {
    "papermill": {
     "duration": 0.006433,
     "end_time": "2024-08-09T14:43:28.160996",
     "exception": false,
     "start_time": "2024-08-09T14:43:28.154563",
     "status": "completed"
    },
    "tags": []
   },
   "source": [
    "# 1. Load dataset "
   ]
  },
  {
   "cell_type": "code",
   "execution_count": 2,
   "id": "7eed36f5",
   "metadata": {
    "execution": {
     "iopub.execute_input": "2024-08-09T14:43:28.176878Z",
     "iopub.status.busy": "2024-08-09T14:43:28.176375Z",
     "iopub.status.idle": "2024-08-09T14:43:28.248232Z",
     "shell.execute_reply": "2024-08-09T14:43:28.247115Z"
    },
    "papermill": {
     "duration": 0.082815,
     "end_time": "2024-08-09T14:43:28.250691",
     "exception": false,
     "start_time": "2024-08-09T14:43:28.167876",
     "status": "completed"
    },
    "tags": []
   },
   "outputs": [
    {
     "data": {
      "text/html": [
       "<div>\n",
       "<style scoped>\n",
       "    .dataframe tbody tr th:only-of-type {\n",
       "        vertical-align: middle;\n",
       "    }\n",
       "\n",
       "    .dataframe tbody tr th {\n",
       "        vertical-align: top;\n",
       "    }\n",
       "\n",
       "    .dataframe thead th {\n",
       "        text-align: right;\n",
       "    }\n",
       "</style>\n",
       "<table border=\"1\" class=\"dataframe\">\n",
       "  <thead>\n",
       "    <tr style=\"text-align: right;\">\n",
       "      <th></th>\n",
       "      <th>Make</th>\n",
       "      <th>Model</th>\n",
       "      <th>Vehicle Class</th>\n",
       "      <th>Engine Size(L)</th>\n",
       "      <th>Cylinders</th>\n",
       "      <th>Transmission</th>\n",
       "      <th>Fuel Type</th>\n",
       "      <th>Fuel Consumption City (L/100 km)</th>\n",
       "      <th>Fuel Consumption Hwy (L/100 km)</th>\n",
       "      <th>Fuel Consumption Comb (L/100 km)</th>\n",
       "      <th>Fuel Consumption Comb (mpg)</th>\n",
       "      <th>CO2 Emissions(g/km)</th>\n",
       "    </tr>\n",
       "  </thead>\n",
       "  <tbody>\n",
       "    <tr>\n",
       "      <th>0</th>\n",
       "      <td>ACURA</td>\n",
       "      <td>ILX</td>\n",
       "      <td>COMPACT</td>\n",
       "      <td>2.0</td>\n",
       "      <td>4</td>\n",
       "      <td>AS5</td>\n",
       "      <td>Z</td>\n",
       "      <td>9.9</td>\n",
       "      <td>6.7</td>\n",
       "      <td>8.5</td>\n",
       "      <td>33</td>\n",
       "      <td>196</td>\n",
       "    </tr>\n",
       "    <tr>\n",
       "      <th>1</th>\n",
       "      <td>ACURA</td>\n",
       "      <td>ILX</td>\n",
       "      <td>COMPACT</td>\n",
       "      <td>2.4</td>\n",
       "      <td>4</td>\n",
       "      <td>M6</td>\n",
       "      <td>Z</td>\n",
       "      <td>11.2</td>\n",
       "      <td>7.7</td>\n",
       "      <td>9.6</td>\n",
       "      <td>29</td>\n",
       "      <td>221</td>\n",
       "    </tr>\n",
       "    <tr>\n",
       "      <th>2</th>\n",
       "      <td>ACURA</td>\n",
       "      <td>ILX HYBRID</td>\n",
       "      <td>COMPACT</td>\n",
       "      <td>1.5</td>\n",
       "      <td>4</td>\n",
       "      <td>AV7</td>\n",
       "      <td>Z</td>\n",
       "      <td>6.0</td>\n",
       "      <td>5.8</td>\n",
       "      <td>5.9</td>\n",
       "      <td>48</td>\n",
       "      <td>136</td>\n",
       "    </tr>\n",
       "    <tr>\n",
       "      <th>3</th>\n",
       "      <td>ACURA</td>\n",
       "      <td>MDX 4WD</td>\n",
       "      <td>SUV - SMALL</td>\n",
       "      <td>3.5</td>\n",
       "      <td>6</td>\n",
       "      <td>AS6</td>\n",
       "      <td>Z</td>\n",
       "      <td>12.7</td>\n",
       "      <td>9.1</td>\n",
       "      <td>11.1</td>\n",
       "      <td>25</td>\n",
       "      <td>255</td>\n",
       "    </tr>\n",
       "    <tr>\n",
       "      <th>4</th>\n",
       "      <td>ACURA</td>\n",
       "      <td>RDX AWD</td>\n",
       "      <td>SUV - SMALL</td>\n",
       "      <td>3.5</td>\n",
       "      <td>6</td>\n",
       "      <td>AS6</td>\n",
       "      <td>Z</td>\n",
       "      <td>12.1</td>\n",
       "      <td>8.7</td>\n",
       "      <td>10.6</td>\n",
       "      <td>27</td>\n",
       "      <td>244</td>\n",
       "    </tr>\n",
       "    <tr>\n",
       "      <th>...</th>\n",
       "      <td>...</td>\n",
       "      <td>...</td>\n",
       "      <td>...</td>\n",
       "      <td>...</td>\n",
       "      <td>...</td>\n",
       "      <td>...</td>\n",
       "      <td>...</td>\n",
       "      <td>...</td>\n",
       "      <td>...</td>\n",
       "      <td>...</td>\n",
       "      <td>...</td>\n",
       "      <td>...</td>\n",
       "    </tr>\n",
       "    <tr>\n",
       "      <th>7380</th>\n",
       "      <td>VOLVO</td>\n",
       "      <td>XC40 T5 AWD</td>\n",
       "      <td>SUV - SMALL</td>\n",
       "      <td>2.0</td>\n",
       "      <td>4</td>\n",
       "      <td>AS8</td>\n",
       "      <td>Z</td>\n",
       "      <td>10.7</td>\n",
       "      <td>7.7</td>\n",
       "      <td>9.4</td>\n",
       "      <td>30</td>\n",
       "      <td>219</td>\n",
       "    </tr>\n",
       "    <tr>\n",
       "      <th>7381</th>\n",
       "      <td>VOLVO</td>\n",
       "      <td>XC60 T5 AWD</td>\n",
       "      <td>SUV - SMALL</td>\n",
       "      <td>2.0</td>\n",
       "      <td>4</td>\n",
       "      <td>AS8</td>\n",
       "      <td>Z</td>\n",
       "      <td>11.2</td>\n",
       "      <td>8.3</td>\n",
       "      <td>9.9</td>\n",
       "      <td>29</td>\n",
       "      <td>232</td>\n",
       "    </tr>\n",
       "    <tr>\n",
       "      <th>7382</th>\n",
       "      <td>VOLVO</td>\n",
       "      <td>XC60 T6 AWD</td>\n",
       "      <td>SUV - SMALL</td>\n",
       "      <td>2.0</td>\n",
       "      <td>4</td>\n",
       "      <td>AS8</td>\n",
       "      <td>Z</td>\n",
       "      <td>11.7</td>\n",
       "      <td>8.6</td>\n",
       "      <td>10.3</td>\n",
       "      <td>27</td>\n",
       "      <td>240</td>\n",
       "    </tr>\n",
       "    <tr>\n",
       "      <th>7383</th>\n",
       "      <td>VOLVO</td>\n",
       "      <td>XC90 T5 AWD</td>\n",
       "      <td>SUV - STANDARD</td>\n",
       "      <td>2.0</td>\n",
       "      <td>4</td>\n",
       "      <td>AS8</td>\n",
       "      <td>Z</td>\n",
       "      <td>11.2</td>\n",
       "      <td>8.3</td>\n",
       "      <td>9.9</td>\n",
       "      <td>29</td>\n",
       "      <td>232</td>\n",
       "    </tr>\n",
       "    <tr>\n",
       "      <th>7384</th>\n",
       "      <td>VOLVO</td>\n",
       "      <td>XC90 T6 AWD</td>\n",
       "      <td>SUV - STANDARD</td>\n",
       "      <td>2.0</td>\n",
       "      <td>4</td>\n",
       "      <td>AS8</td>\n",
       "      <td>Z</td>\n",
       "      <td>12.2</td>\n",
       "      <td>8.7</td>\n",
       "      <td>10.7</td>\n",
       "      <td>26</td>\n",
       "      <td>248</td>\n",
       "    </tr>\n",
       "  </tbody>\n",
       "</table>\n",
       "<p>7385 rows × 12 columns</p>\n",
       "</div>"
      ],
      "text/plain": [
       "       Make        Model   Vehicle Class  Engine Size(L)  Cylinders  \\\n",
       "0     ACURA          ILX         COMPACT             2.0          4   \n",
       "1     ACURA          ILX         COMPACT             2.4          4   \n",
       "2     ACURA   ILX HYBRID         COMPACT             1.5          4   \n",
       "3     ACURA      MDX 4WD     SUV - SMALL             3.5          6   \n",
       "4     ACURA      RDX AWD     SUV - SMALL             3.5          6   \n",
       "...     ...          ...             ...             ...        ...   \n",
       "7380  VOLVO  XC40 T5 AWD     SUV - SMALL             2.0          4   \n",
       "7381  VOLVO  XC60 T5 AWD     SUV - SMALL             2.0          4   \n",
       "7382  VOLVO  XC60 T6 AWD     SUV - SMALL             2.0          4   \n",
       "7383  VOLVO  XC90 T5 AWD  SUV - STANDARD             2.0          4   \n",
       "7384  VOLVO  XC90 T6 AWD  SUV - STANDARD             2.0          4   \n",
       "\n",
       "     Transmission Fuel Type  Fuel Consumption City (L/100 km)  \\\n",
       "0             AS5         Z                               9.9   \n",
       "1              M6         Z                              11.2   \n",
       "2             AV7         Z                               6.0   \n",
       "3             AS6         Z                              12.7   \n",
       "4             AS6         Z                              12.1   \n",
       "...           ...       ...                               ...   \n",
       "7380          AS8         Z                              10.7   \n",
       "7381          AS8         Z                              11.2   \n",
       "7382          AS8         Z                              11.7   \n",
       "7383          AS8         Z                              11.2   \n",
       "7384          AS8         Z                              12.2   \n",
       "\n",
       "      Fuel Consumption Hwy (L/100 km)  Fuel Consumption Comb (L/100 km)  \\\n",
       "0                                 6.7                               8.5   \n",
       "1                                 7.7                               9.6   \n",
       "2                                 5.8                               5.9   \n",
       "3                                 9.1                              11.1   \n",
       "4                                 8.7                              10.6   \n",
       "...                               ...                               ...   \n",
       "7380                              7.7                               9.4   \n",
       "7381                              8.3                               9.9   \n",
       "7382                              8.6                              10.3   \n",
       "7383                              8.3                               9.9   \n",
       "7384                              8.7                              10.7   \n",
       "\n",
       "      Fuel Consumption Comb (mpg)  CO2 Emissions(g/km)  \n",
       "0                              33                  196  \n",
       "1                              29                  221  \n",
       "2                              48                  136  \n",
       "3                              25                  255  \n",
       "4                              27                  244  \n",
       "...                           ...                  ...  \n",
       "7380                           30                  219  \n",
       "7381                           29                  232  \n",
       "7382                           27                  240  \n",
       "7383                           29                  232  \n",
       "7384                           26                  248  \n",
       "\n",
       "[7385 rows x 12 columns]"
      ]
     },
     "execution_count": 2,
     "metadata": {},
     "output_type": "execute_result"
    }
   ],
   "source": [
    "df = pd.read_csv('/kaggle/input/co2-emission-by-vehicles/CO2 Emissions_Canada.csv')\n",
    "df"
   ]
  },
  {
   "cell_type": "code",
   "execution_count": 3,
   "id": "5f6fcaa1",
   "metadata": {
    "execution": {
     "iopub.execute_input": "2024-08-09T14:43:28.267086Z",
     "iopub.status.busy": "2024-08-09T14:43:28.266743Z",
     "iopub.status.idle": "2024-08-09T14:43:28.279099Z",
     "shell.execute_reply": "2024-08-09T14:43:28.277955Z"
    },
    "papermill": {
     "duration": 0.023467,
     "end_time": "2024-08-09T14:43:28.281454",
     "exception": false,
     "start_time": "2024-08-09T14:43:28.257987",
     "status": "completed"
    },
    "tags": []
   },
   "outputs": [
    {
     "data": {
      "text/plain": [
       "Make                                0\n",
       "Model                               0\n",
       "Vehicle Class                       0\n",
       "Engine Size(L)                      0\n",
       "Cylinders                           0\n",
       "Transmission                        0\n",
       "Fuel Type                           0\n",
       "Fuel Consumption City (L/100 km)    0\n",
       "Fuel Consumption Hwy (L/100 km)     0\n",
       "Fuel Consumption Comb (L/100 km)    0\n",
       "Fuel Consumption Comb (mpg)         0\n",
       "CO2 Emissions(g/km)                 0\n",
       "dtype: int64"
      ]
     },
     "execution_count": 3,
     "metadata": {},
     "output_type": "execute_result"
    }
   ],
   "source": [
    "df.isnull().sum()"
   ]
  },
  {
   "cell_type": "markdown",
   "id": "0db41856",
   "metadata": {
    "papermill": {
     "duration": 0.00706,
     "end_time": "2024-08-09T14:43:28.295948",
     "exception": false,
     "start_time": "2024-08-09T14:43:28.288888",
     "status": "completed"
    },
    "tags": []
   },
   "source": [
    "# simple regerssion (linear) using one independant variable "
   ]
  },
  {
   "cell_type": "markdown",
   "id": "522ec671",
   "metadata": {
    "papermill": {
     "duration": 0.007137,
     "end_time": "2024-08-09T14:43:28.310485",
     "exception": false,
     "start_time": "2024-08-09T14:43:28.303348",
     "status": "completed"
    },
    "tags": []
   },
   "source": [
    "# 2. split columns into X and y"
   ]
  },
  {
   "cell_type": "code",
   "execution_count": 4,
   "id": "c4bdda35",
   "metadata": {
    "execution": {
     "iopub.execute_input": "2024-08-09T14:43:28.327899Z",
     "iopub.status.busy": "2024-08-09T14:43:28.327527Z",
     "iopub.status.idle": "2024-08-09T14:43:28.333900Z",
     "shell.execute_reply": "2024-08-09T14:43:28.332651Z"
    },
    "papermill": {
     "duration": 0.017243,
     "end_time": "2024-08-09T14:43:28.336131",
     "exception": false,
     "start_time": "2024-08-09T14:43:28.318888",
     "status": "completed"
    },
    "tags": []
   },
   "outputs": [],
   "source": [
    "X = df[['Engine Size(L)']]\n",
    "y = df['CO2 Emissions(g/km)']"
   ]
  },
  {
   "cell_type": "code",
   "execution_count": 5,
   "id": "707dab6d",
   "metadata": {
    "execution": {
     "iopub.execute_input": "2024-08-09T14:43:28.352843Z",
     "iopub.status.busy": "2024-08-09T14:43:28.352479Z",
     "iopub.status.idle": "2024-08-09T14:43:28.364066Z",
     "shell.execute_reply": "2024-08-09T14:43:28.363030Z"
    },
    "papermill": {
     "duration": 0.022478,
     "end_time": "2024-08-09T14:43:28.366221",
     "exception": false,
     "start_time": "2024-08-09T14:43:28.343743",
     "status": "completed"
    },
    "tags": []
   },
   "outputs": [
    {
     "data": {
      "text/html": [
       "<div>\n",
       "<style scoped>\n",
       "    .dataframe tbody tr th:only-of-type {\n",
       "        vertical-align: middle;\n",
       "    }\n",
       "\n",
       "    .dataframe tbody tr th {\n",
       "        vertical-align: top;\n",
       "    }\n",
       "\n",
       "    .dataframe thead th {\n",
       "        text-align: right;\n",
       "    }\n",
       "</style>\n",
       "<table border=\"1\" class=\"dataframe\">\n",
       "  <thead>\n",
       "    <tr style=\"text-align: right;\">\n",
       "      <th></th>\n",
       "      <th>Engine Size(L)</th>\n",
       "    </tr>\n",
       "  </thead>\n",
       "  <tbody>\n",
       "    <tr>\n",
       "      <th>0</th>\n",
       "      <td>2.0</td>\n",
       "    </tr>\n",
       "    <tr>\n",
       "      <th>1</th>\n",
       "      <td>2.4</td>\n",
       "    </tr>\n",
       "    <tr>\n",
       "      <th>2</th>\n",
       "      <td>1.5</td>\n",
       "    </tr>\n",
       "    <tr>\n",
       "      <th>3</th>\n",
       "      <td>3.5</td>\n",
       "    </tr>\n",
       "    <tr>\n",
       "      <th>4</th>\n",
       "      <td>3.5</td>\n",
       "    </tr>\n",
       "    <tr>\n",
       "      <th>...</th>\n",
       "      <td>...</td>\n",
       "    </tr>\n",
       "    <tr>\n",
       "      <th>7380</th>\n",
       "      <td>2.0</td>\n",
       "    </tr>\n",
       "    <tr>\n",
       "      <th>7381</th>\n",
       "      <td>2.0</td>\n",
       "    </tr>\n",
       "    <tr>\n",
       "      <th>7382</th>\n",
       "      <td>2.0</td>\n",
       "    </tr>\n",
       "    <tr>\n",
       "      <th>7383</th>\n",
       "      <td>2.0</td>\n",
       "    </tr>\n",
       "    <tr>\n",
       "      <th>7384</th>\n",
       "      <td>2.0</td>\n",
       "    </tr>\n",
       "  </tbody>\n",
       "</table>\n",
       "<p>7385 rows × 1 columns</p>\n",
       "</div>"
      ],
      "text/plain": [
       "      Engine Size(L)\n",
       "0                2.0\n",
       "1                2.4\n",
       "2                1.5\n",
       "3                3.5\n",
       "4                3.5\n",
       "...              ...\n",
       "7380             2.0\n",
       "7381             2.0\n",
       "7382             2.0\n",
       "7383             2.0\n",
       "7384             2.0\n",
       "\n",
       "[7385 rows x 1 columns]"
      ]
     },
     "execution_count": 5,
     "metadata": {},
     "output_type": "execute_result"
    }
   ],
   "source": [
    "X"
   ]
  },
  {
   "cell_type": "code",
   "execution_count": 6,
   "id": "0b55de7d",
   "metadata": {
    "execution": {
     "iopub.execute_input": "2024-08-09T14:43:28.383411Z",
     "iopub.status.busy": "2024-08-09T14:43:28.382678Z",
     "iopub.status.idle": "2024-08-09T14:43:28.391067Z",
     "shell.execute_reply": "2024-08-09T14:43:28.390000Z"
    },
    "papermill": {
     "duration": 0.019709,
     "end_time": "2024-08-09T14:43:28.393506",
     "exception": false,
     "start_time": "2024-08-09T14:43:28.373797",
     "status": "completed"
    },
    "tags": []
   },
   "outputs": [
    {
     "data": {
      "text/plain": [
       "0       196\n",
       "1       221\n",
       "2       136\n",
       "3       255\n",
       "4       244\n",
       "       ... \n",
       "7380    219\n",
       "7381    232\n",
       "7382    240\n",
       "7383    232\n",
       "7384    248\n",
       "Name: CO2 Emissions(g/km), Length: 7385, dtype: int64"
      ]
     },
     "execution_count": 6,
     "metadata": {},
     "output_type": "execute_result"
    }
   ],
   "source": [
    "y"
   ]
  },
  {
   "cell_type": "markdown",
   "id": "95b293a4",
   "metadata": {
    "papermill": {
     "duration": 0.007525,
     "end_time": "2024-08-09T14:43:28.408997",
     "exception": false,
     "start_time": "2024-08-09T14:43:28.401472",
     "status": "completed"
    },
    "tags": []
   },
   "source": [
    "# 3. split data into train and test "
   ]
  },
  {
   "cell_type": "code",
   "execution_count": 7,
   "id": "fe096a0b",
   "metadata": {
    "execution": {
     "iopub.execute_input": "2024-08-09T14:43:28.426079Z",
     "iopub.status.busy": "2024-08-09T14:43:28.425730Z",
     "iopub.status.idle": "2024-08-09T14:43:29.711717Z",
     "shell.execute_reply": "2024-08-09T14:43:29.710749Z"
    },
    "papermill": {
     "duration": 1.29761,
     "end_time": "2024-08-09T14:43:29.714327",
     "exception": false,
     "start_time": "2024-08-09T14:43:28.416717",
     "status": "completed"
    },
    "tags": []
   },
   "outputs": [],
   "source": [
    "from sklearn.model_selection import train_test_split\n",
    "X_train, X_test, y_train, y_test = train_test_split(X, y, test_size=0.33, random_state=42)"
   ]
  },
  {
   "cell_type": "code",
   "execution_count": 8,
   "id": "afcef8c3",
   "metadata": {
    "execution": {
     "iopub.execute_input": "2024-08-09T14:43:29.731414Z",
     "iopub.status.busy": "2024-08-09T14:43:29.731013Z",
     "iopub.status.idle": "2024-08-09T14:43:29.738233Z",
     "shell.execute_reply": "2024-08-09T14:43:29.737141Z"
    },
    "papermill": {
     "duration": 0.018536,
     "end_time": "2024-08-09T14:43:29.740602",
     "exception": false,
     "start_time": "2024-08-09T14:43:29.722066",
     "status": "completed"
    },
    "tags": []
   },
   "outputs": [
    {
     "data": {
      "text/plain": [
       "((4947, 1), (4947,), (2438, 1), (2438,))"
      ]
     },
     "execution_count": 8,
     "metadata": {},
     "output_type": "execute_result"
    }
   ],
   "source": [
    "X_train.shape, y_train.shape, X_test.shape, y_test.shape"
   ]
  },
  {
   "cell_type": "markdown",
   "id": "7bb2c2f0",
   "metadata": {
    "papermill": {
     "duration": 0.007531,
     "end_time": "2024-08-09T14:43:29.756122",
     "exception": false,
     "start_time": "2024-08-09T14:43:29.748591",
     "status": "completed"
    },
    "tags": []
   },
   "source": [
    "# 4. create model"
   ]
  },
  {
   "cell_type": "code",
   "execution_count": 9,
   "id": "fa59d638",
   "metadata": {
    "execution": {
     "iopub.execute_input": "2024-08-09T14:43:29.774168Z",
     "iopub.status.busy": "2024-08-09T14:43:29.773242Z",
     "iopub.status.idle": "2024-08-09T14:43:29.875894Z",
     "shell.execute_reply": "2024-08-09T14:43:29.874935Z"
    },
    "papermill": {
     "duration": 0.114355,
     "end_time": "2024-08-09T14:43:29.878510",
     "exception": false,
     "start_time": "2024-08-09T14:43:29.764155",
     "status": "completed"
    },
    "tags": []
   },
   "outputs": [],
   "source": [
    "from sklearn.linear_model import LinearRegression\n",
    "reg = LinearRegression()"
   ]
  },
  {
   "cell_type": "markdown",
   "id": "30764199",
   "metadata": {
    "papermill": {
     "duration": 0.0075,
     "end_time": "2024-08-09T14:43:29.894019",
     "exception": false,
     "start_time": "2024-08-09T14:43:29.886519",
     "status": "completed"
    },
    "tags": []
   },
   "source": [
    "# 5. train model "
   ]
  },
  {
   "cell_type": "code",
   "execution_count": 10,
   "id": "1cd3b373",
   "metadata": {
    "execution": {
     "iopub.execute_input": "2024-08-09T14:43:29.911584Z",
     "iopub.status.busy": "2024-08-09T14:43:29.911150Z",
     "iopub.status.idle": "2024-08-09T14:43:29.934420Z",
     "shell.execute_reply": "2024-08-09T14:43:29.933144Z"
    },
    "papermill": {
     "duration": 0.034571,
     "end_time": "2024-08-09T14:43:29.936774",
     "exception": false,
     "start_time": "2024-08-09T14:43:29.902203",
     "status": "completed"
    },
    "tags": []
   },
   "outputs": [
    {
     "data": {
      "text/html": [
       "<style>#sk-container-id-1 {color: black;background-color: white;}#sk-container-id-1 pre{padding: 0;}#sk-container-id-1 div.sk-toggleable {background-color: white;}#sk-container-id-1 label.sk-toggleable__label {cursor: pointer;display: block;width: 100%;margin-bottom: 0;padding: 0.3em;box-sizing: border-box;text-align: center;}#sk-container-id-1 label.sk-toggleable__label-arrow:before {content: \"▸\";float: left;margin-right: 0.25em;color: #696969;}#sk-container-id-1 label.sk-toggleable__label-arrow:hover:before {color: black;}#sk-container-id-1 div.sk-estimator:hover label.sk-toggleable__label-arrow:before {color: black;}#sk-container-id-1 div.sk-toggleable__content {max-height: 0;max-width: 0;overflow: hidden;text-align: left;background-color: #f0f8ff;}#sk-container-id-1 div.sk-toggleable__content pre {margin: 0.2em;color: black;border-radius: 0.25em;background-color: #f0f8ff;}#sk-container-id-1 input.sk-toggleable__control:checked~div.sk-toggleable__content {max-height: 200px;max-width: 100%;overflow: auto;}#sk-container-id-1 input.sk-toggleable__control:checked~label.sk-toggleable__label-arrow:before {content: \"▾\";}#sk-container-id-1 div.sk-estimator input.sk-toggleable__control:checked~label.sk-toggleable__label {background-color: #d4ebff;}#sk-container-id-1 div.sk-label input.sk-toggleable__control:checked~label.sk-toggleable__label {background-color: #d4ebff;}#sk-container-id-1 input.sk-hidden--visually {border: 0;clip: rect(1px 1px 1px 1px);clip: rect(1px, 1px, 1px, 1px);height: 1px;margin: -1px;overflow: hidden;padding: 0;position: absolute;width: 1px;}#sk-container-id-1 div.sk-estimator {font-family: monospace;background-color: #f0f8ff;border: 1px dotted black;border-radius: 0.25em;box-sizing: border-box;margin-bottom: 0.5em;}#sk-container-id-1 div.sk-estimator:hover {background-color: #d4ebff;}#sk-container-id-1 div.sk-parallel-item::after {content: \"\";width: 100%;border-bottom: 1px solid gray;flex-grow: 1;}#sk-container-id-1 div.sk-label:hover label.sk-toggleable__label {background-color: #d4ebff;}#sk-container-id-1 div.sk-serial::before {content: \"\";position: absolute;border-left: 1px solid gray;box-sizing: border-box;top: 0;bottom: 0;left: 50%;z-index: 0;}#sk-container-id-1 div.sk-serial {display: flex;flex-direction: column;align-items: center;background-color: white;padding-right: 0.2em;padding-left: 0.2em;position: relative;}#sk-container-id-1 div.sk-item {position: relative;z-index: 1;}#sk-container-id-1 div.sk-parallel {display: flex;align-items: stretch;justify-content: center;background-color: white;position: relative;}#sk-container-id-1 div.sk-item::before, #sk-container-id-1 div.sk-parallel-item::before {content: \"\";position: absolute;border-left: 1px solid gray;box-sizing: border-box;top: 0;bottom: 0;left: 50%;z-index: -1;}#sk-container-id-1 div.sk-parallel-item {display: flex;flex-direction: column;z-index: 1;position: relative;background-color: white;}#sk-container-id-1 div.sk-parallel-item:first-child::after {align-self: flex-end;width: 50%;}#sk-container-id-1 div.sk-parallel-item:last-child::after {align-self: flex-start;width: 50%;}#sk-container-id-1 div.sk-parallel-item:only-child::after {width: 0;}#sk-container-id-1 div.sk-dashed-wrapped {border: 1px dashed gray;margin: 0 0.4em 0.5em 0.4em;box-sizing: border-box;padding-bottom: 0.4em;background-color: white;}#sk-container-id-1 div.sk-label label {font-family: monospace;font-weight: bold;display: inline-block;line-height: 1.2em;}#sk-container-id-1 div.sk-label-container {text-align: center;}#sk-container-id-1 div.sk-container {/* jupyter's `normalize.less` sets `[hidden] { display: none; }` but bootstrap.min.css set `[hidden] { display: none !important; }` so we also need the `!important` here to be able to override the default hidden behavior on the sphinx rendered scikit-learn.org. See: https://github.com/scikit-learn/scikit-learn/issues/21755 */display: inline-block !important;position: relative;}#sk-container-id-1 div.sk-text-repr-fallback {display: none;}</style><div id=\"sk-container-id-1\" class=\"sk-top-container\"><div class=\"sk-text-repr-fallback\"><pre>LinearRegression()</pre><b>In a Jupyter environment, please rerun this cell to show the HTML representation or trust the notebook. <br />On GitHub, the HTML representation is unable to render, please try loading this page with nbviewer.org.</b></div><div class=\"sk-container\" hidden><div class=\"sk-item\"><div class=\"sk-estimator sk-toggleable\"><input class=\"sk-toggleable__control sk-hidden--visually\" id=\"sk-estimator-id-1\" type=\"checkbox\" checked><label for=\"sk-estimator-id-1\" class=\"sk-toggleable__label sk-toggleable__label-arrow\">LinearRegression</label><div class=\"sk-toggleable__content\"><pre>LinearRegression()</pre></div></div></div></div></div>"
      ],
      "text/plain": [
       "LinearRegression()"
      ]
     },
     "execution_count": 10,
     "metadata": {},
     "output_type": "execute_result"
    }
   ],
   "source": [
    "reg.fit(X_train, y_train)"
   ]
  },
  {
   "cell_type": "markdown",
   "id": "eae0224d",
   "metadata": {
    "papermill": {
     "duration": 0.007852,
     "end_time": "2024-08-09T14:43:29.952662",
     "exception": false,
     "start_time": "2024-08-09T14:43:29.944810",
     "status": "completed"
    },
    "tags": []
   },
   "source": [
    "# 6. predict "
   ]
  },
  {
   "cell_type": "code",
   "execution_count": 11,
   "id": "327ad3ff",
   "metadata": {
    "execution": {
     "iopub.execute_input": "2024-08-09T14:43:29.970321Z",
     "iopub.status.busy": "2024-08-09T14:43:29.969903Z",
     "iopub.status.idle": "2024-08-09T14:43:29.978549Z",
     "shell.execute_reply": "2024-08-09T14:43:29.977497Z"
    },
    "papermill": {
     "duration": 0.020031,
     "end_time": "2024-08-09T14:43:29.980693",
     "exception": false,
     "start_time": "2024-08-09T14:43:29.960662",
     "status": "completed"
    },
    "tags": []
   },
   "outputs": [
    {
     "data": {
      "text/plain": [
       "array([244.95120222, 296.5118805 , 362.80418115, 329.65803083,\n",
       "       281.78025814])"
      ]
     },
     "execution_count": 11,
     "metadata": {},
     "output_type": "execute_result"
    }
   ],
   "source": [
    "# predict the first 5 examples in the test \n",
    "predict5 = reg.predict(X_test.head())\n",
    "predict5"
   ]
  },
  {
   "cell_type": "code",
   "execution_count": 12,
   "id": "71c1987b",
   "metadata": {
    "execution": {
     "iopub.execute_input": "2024-08-09T14:43:29.998762Z",
     "iopub.status.busy": "2024-08-09T14:43:29.998380Z",
     "iopub.status.idle": "2024-08-09T14:43:30.005853Z",
     "shell.execute_reply": "2024-08-09T14:43:30.004747Z"
    },
    "papermill": {
     "duration": 0.019103,
     "end_time": "2024-08-09T14:43:30.008066",
     "exception": false,
     "start_time": "2024-08-09T14:43:29.988963",
     "status": "completed"
    },
    "tags": []
   },
   "outputs": [
    {
     "data": {
      "text/plain": [
       "7261    253\n",
       "4489    344\n",
       "1539    322\n",
       "3532    297\n",
       "6418    308\n",
       "Name: CO2 Emissions(g/km), dtype: int64"
      ]
     },
     "execution_count": 12,
     "metadata": {},
     "output_type": "execute_result"
    }
   ],
   "source": [
    "y_test.head()"
   ]
  },
  {
   "cell_type": "code",
   "execution_count": 13,
   "id": "1e56668e",
   "metadata": {
    "execution": {
     "iopub.execute_input": "2024-08-09T14:43:30.026778Z",
     "iopub.status.busy": "2024-08-09T14:43:30.026353Z",
     "iopub.status.idle": "2024-08-09T14:43:30.034779Z",
     "shell.execute_reply": "2024-08-09T14:43:30.033699Z"
    },
    "papermill": {
     "duration": 0.020531,
     "end_time": "2024-08-09T14:43:30.036981",
     "exception": false,
     "start_time": "2024-08-09T14:43:30.016450",
     "status": "completed"
    },
    "tags": []
   },
   "outputs": [
    {
     "data": {
      "text/plain": [
       "7261     8.048798\n",
       "4489    47.488119\n",
       "1539    40.804181\n",
       "3532    32.658031\n",
       "6418    26.219742\n",
       "Name: CO2 Emissions(g/km), dtype: float64"
      ]
     },
     "execution_count": 13,
     "metadata": {},
     "output_type": "execute_result"
    }
   ],
   "source": [
    "error = abs(predict5 - y_test.head())\n",
    "error"
   ]
  },
  {
   "cell_type": "markdown",
   "id": "48db06b7",
   "metadata": {
    "papermill": {
     "duration": 0.008361,
     "end_time": "2024-08-09T14:43:30.054218",
     "exception": false,
     "start_time": "2024-08-09T14:43:30.045857",
     "status": "completed"
    },
    "tags": []
   },
   "source": [
    "# 7. evaluate "
   ]
  },
  {
   "cell_type": "code",
   "execution_count": 14,
   "id": "8993f3ec",
   "metadata": {
    "execution": {
     "iopub.execute_input": "2024-08-09T14:43:30.073089Z",
     "iopub.status.busy": "2024-08-09T14:43:30.072702Z",
     "iopub.status.idle": "2024-08-09T14:43:30.081811Z",
     "shell.execute_reply": "2024-08-09T14:43:30.080745Z"
    },
    "papermill": {
     "duration": 0.02127,
     "end_time": "2024-08-09T14:43:30.084094",
     "exception": false,
     "start_time": "2024-08-09T14:43:30.062824",
     "status": "completed"
    },
    "tags": []
   },
   "outputs": [
    {
     "data": {
      "text/plain": [
       "0.7195815923941837"
      ]
     },
     "execution_count": 14,
     "metadata": {},
     "output_type": "execute_result"
    }
   ],
   "source": [
    "reg.score(X_test, y_test)"
   ]
  },
  {
   "cell_type": "markdown",
   "id": "247b69bc",
   "metadata": {
    "papermill": {
     "duration": 0.00857,
     "end_time": "2024-08-09T14:43:30.101453",
     "exception": false,
     "start_time": "2024-08-09T14:43:30.092883",
     "status": "completed"
    },
    "tags": []
   },
   "source": [
    "# coefficent and intercept "
   ]
  },
  {
   "cell_type": "code",
   "execution_count": 15,
   "id": "d4d9900c",
   "metadata": {
    "execution": {
     "iopub.execute_input": "2024-08-09T14:43:30.120414Z",
     "iopub.status.busy": "2024-08-09T14:43:30.119659Z",
     "iopub.status.idle": "2024-08-09T14:43:30.126145Z",
     "shell.execute_reply": "2024-08-09T14:43:30.125114Z"
    },
    "papermill": {
     "duration": 0.018414,
     "end_time": "2024-08-09T14:43:30.128391",
     "exception": false,
     "start_time": "2024-08-09T14:43:30.109977",
     "status": "completed"
    },
    "tags": []
   },
   "outputs": [
    {
     "data": {
      "text/plain": [
       "array([36.82905592])"
      ]
     },
     "execution_count": 15,
     "metadata": {},
     "output_type": "execute_result"
    }
   ],
   "source": [
    "reg.coef_"
   ]
  },
  {
   "cell_type": "code",
   "execution_count": 16,
   "id": "278bb3ba",
   "metadata": {
    "execution": {
     "iopub.execute_input": "2024-08-09T14:43:30.148364Z",
     "iopub.status.busy": "2024-08-09T14:43:30.147612Z",
     "iopub.status.idle": "2024-08-09T14:43:30.154560Z",
     "shell.execute_reply": "2024-08-09T14:43:30.153533Z"
    },
    "papermill": {
     "duration": 0.01949,
     "end_time": "2024-08-09T14:43:30.156660",
     "exception": false,
     "start_time": "2024-08-09T14:43:30.137170",
     "status": "completed"
    },
    "tags": []
   },
   "outputs": [
    {
     "data": {
      "text/plain": [
       "134.464034469752"
      ]
     },
     "execution_count": 16,
     "metadata": {},
     "output_type": "execute_result"
    }
   ],
   "source": [
    "reg.intercept_"
   ]
  },
  {
   "cell_type": "markdown",
   "id": "c5f7cd32",
   "metadata": {
    "papermill": {
     "duration": 0.008462,
     "end_time": "2024-08-09T14:43:30.173981",
     "exception": false,
     "start_time": "2024-08-09T14:43:30.165519",
     "status": "completed"
    },
    "tags": []
   },
   "source": [
    "# calc error "
   ]
  },
  {
   "cell_type": "code",
   "execution_count": 17,
   "id": "245a3013",
   "metadata": {
    "execution": {
     "iopub.execute_input": "2024-08-09T14:43:30.193373Z",
     "iopub.status.busy": "2024-08-09T14:43:30.192982Z",
     "iopub.status.idle": "2024-08-09T14:43:30.202146Z",
     "shell.execute_reply": "2024-08-09T14:43:30.201081Z"
    },
    "papermill": {
     "duration": 0.021616,
     "end_time": "2024-08-09T14:43:30.204331",
     "exception": false,
     "start_time": "2024-08-09T14:43:30.182715",
     "status": "completed"
    },
    "tags": []
   },
   "outputs": [
    {
     "data": {
      "text/plain": [
       "23.180027346944467"
      ]
     },
     "execution_count": 17,
     "metadata": {},
     "output_type": "execute_result"
    }
   ],
   "source": [
    "from sklearn.metrics import mean_absolute_error\n",
    "y_pred = reg.predict(X_test)\n",
    "mean_absolute_error(y_test, y_pred)"
   ]
  },
  {
   "cell_type": "markdown",
   "id": "48484804",
   "metadata": {
    "papermill": {
     "duration": 0.00898,
     "end_time": "2024-08-09T14:43:30.222100",
     "exception": false,
     "start_time": "2024-08-09T14:43:30.213120",
     "status": "completed"
    },
    "tags": []
   },
   "source": [
    "# repeat process with 3 independent variables "
   ]
  },
  {
   "cell_type": "code",
   "execution_count": 18,
   "id": "6ca686af",
   "metadata": {
    "execution": {
     "iopub.execute_input": "2024-08-09T14:43:30.241385Z",
     "iopub.status.busy": "2024-08-09T14:43:30.240994Z",
     "iopub.status.idle": "2024-08-09T14:43:30.247483Z",
     "shell.execute_reply": "2024-08-09T14:43:30.246573Z"
    },
    "papermill": {
     "duration": 0.018668,
     "end_time": "2024-08-09T14:43:30.249573",
     "exception": false,
     "start_time": "2024-08-09T14:43:30.230905",
     "status": "completed"
    },
    "tags": []
   },
   "outputs": [
    {
     "data": {
      "text/plain": [
       "Index(['Make', 'Model', 'Vehicle Class', 'Engine Size(L)', 'Cylinders',\n",
       "       'Transmission', 'Fuel Type', 'Fuel Consumption City (L/100 km)',\n",
       "       'Fuel Consumption Hwy (L/100 km)', 'Fuel Consumption Comb (L/100 km)',\n",
       "       'Fuel Consumption Comb (mpg)', 'CO2 Emissions(g/km)'],\n",
       "      dtype='object')"
      ]
     },
     "execution_count": 18,
     "metadata": {},
     "output_type": "execute_result"
    }
   ],
   "source": [
    "df.columns"
   ]
  },
  {
   "cell_type": "code",
   "execution_count": 19,
   "id": "cf5f099f",
   "metadata": {
    "execution": {
     "iopub.execute_input": "2024-08-09T14:43:30.269318Z",
     "iopub.status.busy": "2024-08-09T14:43:30.268913Z",
     "iopub.status.idle": "2024-08-09T14:43:30.294643Z",
     "shell.execute_reply": "2024-08-09T14:43:30.293623Z"
    },
    "papermill": {
     "duration": 0.038399,
     "end_time": "2024-08-09T14:43:30.296995",
     "exception": false,
     "start_time": "2024-08-09T14:43:30.258596",
     "status": "completed"
    },
    "tags": []
   },
   "outputs": [
    {
     "data": {
      "text/plain": [
       "0.8765077983667704"
      ]
     },
     "execution_count": 19,
     "metadata": {},
     "output_type": "execute_result"
    }
   ],
   "source": [
    "X = df[['Engine Size(L)', 'Cylinders', 'Fuel Consumption Comb (L/100 km)']]\n",
    "X_train, X_test, y_train, y_test = train_test_split(X, y, test_size=0.33, random_state=42)\n",
    "reg_multi = LinearRegression()\n",
    "reg_multi.fit(X_train, y_train)\n",
    "reg_multi.score(X_test, y_test)"
   ]
  },
  {
   "cell_type": "markdown",
   "id": "a3f45dd2",
   "metadata": {
    "papermill": {
     "duration": 0.008997,
     "end_time": "2024-08-09T14:43:30.315349",
     "exception": false,
     "start_time": "2024-08-09T14:43:30.306352",
     "status": "completed"
    },
    "tags": []
   },
   "source": [
    "# calc error "
   ]
  },
  {
   "cell_type": "code",
   "execution_count": 20,
   "id": "3f705436",
   "metadata": {
    "execution": {
     "iopub.execute_input": "2024-08-09T14:43:30.335430Z",
     "iopub.status.busy": "2024-08-09T14:43:30.334989Z",
     "iopub.status.idle": "2024-08-09T14:43:30.344842Z",
     "shell.execute_reply": "2024-08-09T14:43:30.343750Z"
    },
    "papermill": {
     "duration": 0.022646,
     "end_time": "2024-08-09T14:43:30.347160",
     "exception": false,
     "start_time": "2024-08-09T14:43:30.324514",
     "status": "completed"
    },
    "tags": []
   },
   "outputs": [
    {
     "data": {
      "text/plain": [
       "13.442111035622462"
      ]
     },
     "execution_count": 20,
     "metadata": {},
     "output_type": "execute_result"
    }
   ],
   "source": [
    "y_pred = reg_multi.predict(X_test)\n",
    "mean_absolute_error(y_test, y_pred)"
   ]
  }
 ],
 "metadata": {
  "kaggle": {
   "accelerator": "none",
   "dataSources": [
    {
     "datasetId": 817556,
     "sourceId": 1399448,
     "sourceType": "datasetVersion"
    }
   ],
   "dockerImageVersionId": 30746,
   "isGpuEnabled": false,
   "isInternetEnabled": true,
   "language": "python",
   "sourceType": "notebook"
  },
  "kernelspec": {
   "display_name": "Python 3",
   "language": "python",
   "name": "python3"
  },
  "language_info": {
   "codemirror_mode": {
    "name": "ipython",
    "version": 3
   },
   "file_extension": ".py",
   "mimetype": "text/x-python",
   "name": "python",
   "nbconvert_exporter": "python",
   "pygments_lexer": "ipython3",
   "version": "3.10.13"
  },
  "papermill": {
   "default_parameters": {},
   "duration": 6.477016,
   "end_time": "2024-08-09T14:43:30.977997",
   "environment_variables": {},
   "exception": null,
   "input_path": "__notebook__.ipynb",
   "output_path": "__notebook__.ipynb",
   "parameters": {},
   "start_time": "2024-08-09T14:43:24.500981",
   "version": "2.5.0"
  }
 },
 "nbformat": 4,
 "nbformat_minor": 5
}
